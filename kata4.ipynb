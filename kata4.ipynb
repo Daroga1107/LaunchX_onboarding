{
 "cells": [
  {
   "cell_type": "markdown",
   "metadata": {},
   "source": [
    "Transformar cadenas"
   ]
  },
  {
   "cell_type": "code",
   "execution_count": 16,
   "metadata": {},
   "outputs": [
    {
     "name": "stdout",
     "output_type": "stream",
     "text": [
      " On average, the Moon moves 4cm away from the Earth every year\n",
      " The highest daylight temperature of the Moon is 127 C\n"
     ]
    }
   ],
   "source": [
    "text = \"Interesting facts about the Moon. The Moon is Earth's only satellite. There are several interesting facts about the Moon and how it affects life here on Earth. On average, the Moon moves 4cm away from the Earth every year. This yearly drift is not significant enough to cause immediate effects on Earth. The highest daylight temperature of the Moon is 127 C.\"\n",
    "\n",
    "sentence = text.split('.')\n",
    "\n",
    "key_words=[\"average\", \"temperature\" , \"distance\"]\n",
    "\n",
    "\n",
    "for text_parts in sentence:\n",
    "    for key_word in key_words:\n",
    "        if key_word in text_parts:\n",
    "            print(text_parts)\n",
    "            break\n",
    "\n",
    "    "
   ]
  },
  {
   "cell_type": "markdown",
   "metadata": {},
   "source": [
    "## Conversor a Celsius"
   ]
  },
  {
   "cell_type": "code",
   "execution_count": 19,
   "metadata": {},
   "outputs": [
    {
     "name": "stdout",
     "output_type": "stream",
     "text": [
      " The highest daylight temperature of the Moon is 127 Celsius\n"
     ]
    }
   ],
   "source": [
    "\n",
    "for text_parts in sentence:\n",
    "    if 'C' in text_parts:\n",
    "        print(text_parts.replace('C','Celsius'))"
   ]
  },
  {
   "cell_type": "markdown",
   "metadata": {},
   "source": [
    "## Datos de la luna"
   ]
  },
  {
   "cell_type": "code",
   "execution_count": 34,
   "metadata": {},
   "outputs": [
    {
     "name": "stdout",
     "output_type": "stream",
     "text": [
      "Facts About :\n",
      "Planet : Earth\n",
      "gravity on Moon : 1.6199999999999999\n",
      "\n",
      "\n"
     ]
    }
   ],
   "source": [
    "name = \"Moon\"\n",
    "gravity = 0.00162 # in kms\n",
    "planet = \"Earth\"\n",
    "titulo= \"Facts about :\"\n",
    "\n",
    "plantilla=f\"\"\"Planet : {planet}\n",
    "gravity on {name} : {gravity*1000}\n",
    "\n",
    "\"\"\"\n",
    "\n",
    "print(f'{titulo.title()}\\n{plantilla}')"
   ]
  },
  {
   "cell_type": "code",
   "execution_count": 36,
   "metadata": {},
   "outputs": [
    {
     "name": "stdout",
     "output_type": "stream",
     "text": [
      "Facts About :\n",
      "Planet : Mars\n",
      "gravity on Ganímedes : 1.4300000000000002\n",
      "\n",
      "\n"
     ]
    }
   ],
   "source": [
    "planet = \"Mars\"\n",
    "gravity = .00143\n",
    "name = 'Ganímedes'\n",
    "plantilla=f\"\"\"Planet : {planet}\n",
    "gravity on {name} : {gravity*1000}\n",
    "\n",
    "\"\"\"\n",
    "print(f'{titulo.title()}\\n{plantilla}')"
   ]
  }
 ],
 "metadata": {
  "interpreter": {
   "hash": "72880daa87d348ca92cee411b23b66046b46948414c5bd365a668b89b9f15431"
  },
  "kernelspec": {
   "display_name": "Python 3.9.7 64-bit",
   "language": "python",
   "name": "python3"
  },
  "language_info": {
   "codemirror_mode": {
    "name": "ipython",
    "version": 3
   },
   "file_extension": ".py",
   "mimetype": "text/x-python",
   "name": "python",
   "nbconvert_exporter": "python",
   "pygments_lexer": "ipython3",
   "version": "3.9.7"
  },
  "orig_nbformat": 4
 },
 "nbformat": 4,
 "nbformat_minor": 2
}
