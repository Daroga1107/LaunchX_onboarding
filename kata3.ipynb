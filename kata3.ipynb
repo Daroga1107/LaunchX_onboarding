{
 "cells": [
  {
   "cell_type": "code",
   "execution_count": null,
   "metadata": {},
   "outputs": [],
   "source": [
    "Declaraciones if, else, elif"
   ]
  },
  {
   "cell_type": "code",
   "execution_count": 5,
   "metadata": {},
   "outputs": [
    {
     "name": "stdout",
     "output_type": "stream",
     "text": [
      "Advertencia\n"
     ]
    }
   ],
   "source": [
    "AstVel = 49\n",
    "if AstVel > 25:\n",
    "    print(\"Advertencia\")\n",
    "else:\n",
    "    print(\"todo bien\")"
   ]
  },
  {
   "cell_type": "markdown",
   "metadata": {},
   "source": [
    "asteroide con rayo de luz"
   ]
  },
  {
   "cell_type": "code",
   "execution_count": 4,
   "metadata": {},
   "outputs": [
    {
     "name": "stdout",
     "output_type": "stream",
     "text": [
      "todo bien\n"
     ]
    }
   ],
   "source": [
    "AstVel = 19\n",
    "if AstVel > 20:\n",
    "    print('Advertencia')\n",
    "elif AstVel == 20:\n",
    "    print('Advertencia')\n",
    "else:\n",
    "    print('todo bien')\n"
   ]
  },
  {
   "cell_type": "markdown",
   "metadata": {},
   "source": [
    "Tamaño de asteroide"
   ]
  },
  {
   "cell_type": "code",
   "execution_count": 6,
   "metadata": {},
   "outputs": [
    {
     "name": "stdout",
     "output_type": "stream",
     "text": [
      "Advertencia\n"
     ]
    }
   ],
   "source": [
    "AstVel = 25\n",
    "AstSize = 40\n",
    "if AstVel > 25 and AstSize > 25:\n",
    "    print('Advertencia, Un asteroide grandote!')\n",
    "elif AstVel >= 20:\n",
    "    print('Advertencia')\n",
    "elif AstSize < 25:\n",
    "    print('Todo bien')\n",
    "else:\n",
    "    print('Todo bien')"
   ]
  }
 ],
 "metadata": {
  "interpreter": {
   "hash": "72880daa87d348ca92cee411b23b66046b46948414c5bd365a668b89b9f15431"
  },
  "kernelspec": {
   "display_name": "Python 3.9.7 64-bit",
   "language": "python",
   "name": "python3"
  },
  "language_info": {
   "codemirror_mode": {
    "name": "ipython",
    "version": 3
   },
   "file_extension": ".py",
   "mimetype": "text/x-python",
   "name": "python",
   "nbconvert_exporter": "python",
   "pygments_lexer": "ipython3",
   "version": "3.9.7"
  },
  "orig_nbformat": 4
 },
 "nbformat": 4,
 "nbformat_minor": 2
}
